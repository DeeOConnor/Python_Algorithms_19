{
 "cells": [
  {
   "cell_type": "markdown",
   "metadata": {},
   "source": [
    "# Assignment 1\n",
    "\n",
    "### Components you will be required to use:\n",
    "* Handling files with Python\n",
    "    * Opening a file in Python\n",
    "    * Reading data from a file\n",
    "    * Writing data to a file\n",
    "    * Exception handling\n",
    "    \n",
    "* Data structures\n",
    "    * Deciding the best suited data structures in a program\n",
    "    * Casting data types\n",
    "    * Exception handling\n",
    "  "
   ]
  },
  {
   "cell_type": "code",
   "execution_count": null,
   "metadata": {},
   "outputs": [],
   "source": [
    "record = (\"Deirdre\", \"O'Connor\", \"Teacher\", 2019, \"DCU\", \"Pretty good\")\n",
    "\n",
    "name, surname, job, start_date, location, proficiency = record\n",
    "\n",
    "# mode: w+ creates a file if it does not already exist\n",
    "file = open(\"student-data.txt\",\"w+\")\n",
    "\n",
    "file.write(str(record))\n",
    "\n",
    "file.close()"
   ]
  },
  {
   "cell_type": "code",
   "execution_count": null,
   "metadata": {},
   "outputs": [],
   "source": [
    "# When reading, except an IOError and an EOFError using a try/catch block"
   ]
  },
  {
   "cell_type": "code",
   "execution_count": null,
   "metadata": {},
   "outputs": [],
   "source": [
    "with open(\"student-data.txt\", \"r\") as read:\n",
    "    \n",
    "    lines = read.readlines()\n",
    "    \n",
    "    for each in lines:\n",
    "        print(each)\n",
    "\n",
    "# the file is automatically closed outside the code block"
   ]
  },
  {
   "cell_type": "code",
   "execution_count": null,
   "metadata": {},
   "outputs": [],
   "source": [
    "# Alternatively, you can read the entire files by typing:\n",
    "#print(read.read())"
   ]
  },
  {
   "cell_type": "markdown",
   "metadata": {},
   "source": [
    "### Components you will be required to use:\n",
    "* Importing modules\n",
    "    * Creating a python file to be imported as a module\n",
    "    * Using functions from a custom-made module\n",
    "    \n",
    "* Slice operator\n",
    "    * Using slices to write new information to a tuple\n",
    "    * Exception handling\n"
   ]
  },
  {
   "cell_type": "code",
   "execution_count": null,
   "metadata": {},
   "outputs": [],
   "source": [
    "import random\n",
    "\n",
    "number = random.randint(-100,100)\n",
    "number_list = [each for each in range(1,11)]\n",
    "\n",
    "print(number_list)\n",
    "    \n",
    "number_list = number_list[:5] + [number] + number_list[5:]\n",
    "print(number_list)"
   ]
  },
  {
   "cell_type": "markdown",
   "metadata": {},
   "source": [
    "### Components you will be required to use:\n",
    "* String operations\n",
    "    * Using join\n",
    "    * Casting data types\n",
    "    * Checking for non-alphabet values in a string\n",
    "    * Splitting a string\n",
    "    * Extracting variables from a string\n",
    "\n",
    "* Looping\n",
    "    * Determining the appropriate loops to use in a program\n",
    "    * Exception handling\n",
    "    "
   ]
  },
  {
   "cell_type": "code",
   "execution_count": null,
   "metadata": {},
   "outputs": [],
   "source": [
    "s1 = \"abc\"\n",
    "s2 = \"123\"\n",
    "\n",
    "print(\"s1.join(s2):\\t\", s1.join(s2))\n",
    "print(\"\\n\")\n",
    "print(\"s2.join(s1):\\t\", s2.join(s1))\n",
    "\n",
    "number = int(s2) + 321\n",
    "print(number, \"\\n\")\n",
    "\n",
    "for each in s1:\n",
    "    if(each.isalpha() == False):\n",
    "        print(each, \"is not a letter\")\n",
    "    else:\n",
    "        print(each, \"is a letter\")\n",
    "\n",
    "print(\"\\ns2 is of type:\", type(s2), \"\\n\")\n",
    "for each in s2:\n",
    "    if(each.isalpha() == False):\n",
    "        print(each, \"is not a letter. Casting to integer now\")\n",
    "        each = int(each)\n",
    "    else:\n",
    "        print(each, \"is a letter\")\n",
    "\n",
    "# s2 was not overwritten, only each became an integer\n",
    "print(\"\\ns2 is of type:\", type(s2), \"\\n\")"
   ]
  },
  {
   "cell_type": "markdown",
   "metadata": {},
   "source": [
    "### Components you will be required to use:\n",
    "* Conditional Statements\n",
    "    * Show understanding of Flow Control in a program\n",
    "    * Taking input from the user\n",
    "    * Accurately covering possible inputs from user using if/elif/else statements\n",
    "    \n",
    "* Functions\n",
    "    * Creating functions to eliminate repetition in code\n",
    "    * Passing arguments to a function\n",
    "    * Calling a function with different arguments\n",
    "    * Using a recursive function"
   ]
  },
  {
   "cell_type": "code",
   "execution_count": null,
   "metadata": {},
   "outputs": [],
   "source": [
    "try:\n",
    "    number = int(input(\"Please enter a whole number: \"))\n",
    "    if(number > 0):\n",
    "        print(number, \"is positive\")\n",
    "    elif(number < 0):\n",
    "        print(number, \"is negative\")\n",
    "    elif(number == 0):\n",
    "        print(number, \"is zero\")\n",
    "    else:\n",
    "        print(number, \"is weird. Something went wrong!\")\n",
    "        \n",
    "        \n",
    "    if(number % 2 == 0):\n",
    "        print(number, \"is also even\")\n",
    "    elif(number % 2 == 1):\n",
    "        print(number, \"is also odd\")\n",
    "    else:\n",
    "        print(number, \"is weird. Something went wrong again!\")\n",
    "        \n",
    "    \n",
    "except ValueError:\n",
    "    print(\"Please make sure you enter an integer number\")"
   ]
  },
  {
   "cell_type": "markdown",
   "metadata": {},
   "source": [
    "# What you must create and submit:\n",
    "\n",
    "\n",
    "## Create a suitable data structure containing 6+ pieces of information about you\n",
    "### Information can be strings to describe you, numbers such as age, or any relevant object\n",
    "### We will use this information later, so write the data structure to a file called my_info.txt\n",
    "\n",
    "**Data Structures**\n",
    "* Include in your data structure that your \"python_proficiency\": \"beginner\"\n",
    "* Don't forget to close to file after writing the information\n",
    "* In a new jupyter cell, read the file and print out all values on a new line\n",
    "* Check the type of the data\n",
    "* If the data structure allows it, unpack the values into new variables to use in your code\n",
    "\n",
    "**Conditional Statements**\n",
    "* From the file, check if an integer such as age is mentioned. \n",
    "* Using split, or another data structure, extract the age in a new variable and check:\n",
    "    * If age < 18: print \"You are not an adult yet\"\n",
    "    * If age > 18: print \"Congratulations! You are an adult\"\n",
    "    * If age >= 40: print \"You are getting old\"\n",
    "    * If age <= 10: print \"You should be in bed!\"\n",
    "* Think carefully about the control flow of these statements and the correct order\n",
    "* An if statement can be True or False. An elif statement is only executed if the statement above it is False!\n",
    "* *Hint, hint!*\n",
    "\n",
    "**Logical Operators**\n",
    "* Check how many non-alpha variables are read from the file\n",
    "* Loop through all the information, using a counter value add +1 to it every time an item is **not** a string!\n",
    "* Then for every non-string, print the type\n",
    "\n",
    "**Appending a File**\n",
    "* To finish this part, open the file again using mode 'a' and remove the original statement of proficiency and instead add + (\"python_proficiency\": \"learning\") \n",
    "* If you cannot find a way to remove the original piece you can overwrite the file with all new information, or just append this new part at the end of the file even though there will be a repeated value"
   ]
  },
  {
   "cell_type": "markdown",
   "metadata": {},
   "source": [
    "## Fibonnaci Sequence"
   ]
  },
  {
   "cell_type": "code",
   "execution_count": null,
   "metadata": {},
   "outputs": [],
   "source": [
    "def fib(input):\n",
    "    if (input <= 1):\n",
    "        return(str(input))\n",
    "    else:\n",
    "        first = 0\n",
    "        second = 1\n",
    "        count = 0\n",
    "        for count in range(input):\n",
    "            result = first + second\n",
    "            print(first)\n",
    "            first = second\n",
    "            second = result\n",
    "            count = count+1\n",
    "#print statement will output the correct fib value\n",
    "fib(7)"
   ]
  },
  {
   "cell_type": "markdown",
   "metadata": {},
   "source": [
    "## Recursive Function"
   ]
  },
  {
   "cell_type": "code",
   "execution_count": null,
   "metadata": {},
   "outputs": [],
   "source": [
    "def factorial(n):\n",
    "    if(n==0):\n",
    "        return(1)\n",
    "    else:\n",
    "        return(n * factorial(n-1))"
   ]
  },
  {
   "cell_type": "markdown",
   "metadata": {},
   "source": [
    "## Challenge: Create a recursive Fibonnaci Function\n",
    "\n",
    "* Always specify the first two values as 0, 1\n",
    "* Take user input with conditional statements\n",
    "    * Can ask the user what should the end number be\n",
    "    * Can ask the number how many times the program should loop\n",
    "    * Can ask the number after every iteration: \"Loop again? (y/n) \"\n",
    "    \n",
    "**BEWARE INFINITE LOOPS!**\n",
    "\n",
    "If in doubt:\n",
    "\n",
    "    Kernel > Restart & Clear Output"
   ]
  },
  {
   "cell_type": "code",
   "execution_count": null,
   "metadata": {},
   "outputs": [],
   "source": []
  },
  {
   "cell_type": "code",
   "execution_count": 14,
   "metadata": {},
   "outputs": [
    {
     "name": "stderr",
     "output_type": "stream",
     "text": [
      "test_add (__main__.TestNotebook) ... ok\n",
      "\n",
      "----------------------------------------------------------------------\n",
      "Ran 1 test in 0.003s\n",
      "\n",
      "OK\n"
     ]
    },
    {
     "data": {
      "text/plain": [
       "<unittest.main.TestProgram at 0x10f8ae6d0>"
      ]
     },
     "execution_count": 14,
     "metadata": {},
     "output_type": "execute_result"
    }
   ],
   "source": [
    "def my_function(inp):\n",
    "    inp -= 1\n",
    "    return(inp)\n",
    "\n",
    "import unittest\n",
    "\n",
    "class TestClass(unittest.TestCase):\n",
    "    def my_test(self):\n",
    "        self.assertEqual(my_function(1), 0)\n",
    "unittest.main(argv=[''], verbosity=2, exit=False)"
   ]
  },
  {
   "cell_type": "code",
   "execution_count": 13,
   "metadata": {},
   "outputs": [
    {
     "name": "stderr",
     "output_type": "stream",
     "text": [
      "test_add (__main__.TestNotebook) ... ok\n",
      "\n",
      "----------------------------------------------------------------------\n",
      "Ran 1 test in 0.008s\n",
      "\n",
      "OK\n"
     ]
    },
    {
     "data": {
      "text/plain": [
       "<unittest.main.TestProgram at 0x10f88fb10>"
      ]
     },
     "execution_count": 13,
     "metadata": {},
     "output_type": "execute_result"
    }
   ],
   "source": [
    "def add(a,b):\n",
    "    return(a+b)\n",
    "\n",
    "import unittest\n",
    "\n",
    "class TestNotebook(unittest.TestCase):\n",
    "\n",
    "    def test_add(self):\n",
    "        self.assertEqual(add(2, 2), 4)\n",
    "\n",
    "\n",
    "unittest.main(argv=[''], verbosity=2, exit=False)"
   ]
  },
  {
   "cell_type": "code",
   "execution_count": null,
   "metadata": {},
   "outputs": [],
   "source": []
  }
 ],
 "metadata": {
  "kernelspec": {
   "display_name": "Python 3",
   "language": "python",
   "name": "python3"
  },
  "language_info": {
   "codemirror_mode": {
    "name": "ipython",
    "version": 3
   },
   "file_extension": ".py",
   "mimetype": "text/x-python",
   "name": "python",
   "nbconvert_exporter": "python",
   "pygments_lexer": "ipython3",
   "version": "3.7.5"
  }
 },
 "nbformat": 4,
 "nbformat_minor": 2
}
