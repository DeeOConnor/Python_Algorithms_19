{
 "cells": [
  {
   "cell_type": "markdown",
   "metadata": {},
   "source": [
    "## Put all import statements in the first cell\n",
    "\n",
    "**Don't forget to run this cell any time you restart the kernel!**"
   ]
  },
  {
   "cell_type": "code",
   "execution_count": null,
   "metadata": {},
   "outputs": [],
   "source": [
    "import pandas as pd\n",
    "import random\n",
    "import unittest"
   ]
  },
  {
   "cell_type": "markdown",
   "metadata": {},
   "source": [
    "## Challenge 1: create your own len() function called length()\n",
    "\n",
    "* Define the function name with a keyword **def** length():\n",
    "* As arguments (inside parenthesis), length can take a string, or list, or item\n",
    "* Function should use a counter variable which is an integer\n",
    "* Loop for all positions in the item, and add +1 to counter in every loop\n",
    "* Then, return (counter)\n",
    "\n",
    "**To make sure your length() function is working properly, call the function and print the following:**\n",
    "    * string = \"A very long string...\"\n",
    "    * empty = \"\"\n",
    "    * zero_list = [0]\n",
    "    * short_list = [7805204, 234, 1]\n",
    "\n",
    "print(len(string), \"vs\", length(string))\n",
    "\n",
    "print(len(empty), \"vs\", length(empty))\n",
    "\n",
    "print(len(zero_list), \"vs\", length(zero_list))\n",
    "\n",
    "print(len(short_list), \"vs\", length(short_list))"
   ]
  },
  {
   "cell_type": "code",
   "execution_count": null,
   "metadata": {},
   "outputs": [],
   "source": []
  },
  {
   "cell_type": "markdown",
   "metadata": {},
   "source": [
    "## Unit Tests\n",
    "\n",
    "* Later we will use a function_test to make sure length(item) is acting as it should"
   ]
  },
  {
   "cell_type": "code",
   "execution_count": null,
   "metadata": {},
   "outputs": [],
   "source": []
  },
  {
   "cell_type": "markdown",
   "metadata": {},
   "source": [
    "## Challenge 2: Make a calculator application with functions for each operation: \n",
    "\n",
    "* These functions are very simple\n",
    "* You can do a maths operation inside a return statement\n",
    "* See code below for the most basic function\n",
    "* Include proper exception handling\n",
    "\n",
    "    * add(x, y)\n",
    "    * subtract(x, y)\n",
    "    * multiply(x, y)\n",
    "    * divide(x, y)"
   ]
  },
  {
   "cell_type": "code",
   "execution_count": null,
   "metadata": {},
   "outputs": [],
   "source": [
    "# Calculator application\n",
    "\n",
    "def add(x, y):\n",
    "    return(x + y)\n",
    "    \n",
    "# Test the output manually with a function call\n",
    "print(add(3,4), \"should equal:\", 3+4)"
   ]
  },
  {
   "attachments": {},
   "cell_type": "markdown",
   "metadata": {},
   "source": [
    "## Challenge 3: open example1.txt in read ‘r’ mode\n",
    "\n",
    "* This is a very large file!\n",
    "* Open it with python, use link here: https://www.geeksforgeeks.org/reading-writing-text-files-python/\n",
    "    * Print first line, last line, and total number of lines\n",
    "* Then, open file with pandas as a dataframe\n",
    "    * Print head, print tail, describe()"
   ]
  },
  {
   "cell_type": "code",
   "execution_count": null,
   "metadata": {},
   "outputs": [],
   "source": []
  },
  {
   "cell_type": "markdown",
   "metadata": {},
   "source": [
    "## Challenge 4: Timing\n",
    "\n",
    "* Take the code from Challenge 1, and using the timeit() function, compare len(item) vs your function length(item)\n",
    "* Take the code from Challenge 2, compare the speed of your functions vs printing the simple calculation\n",
    "    * What happens if there is an exception?\n",
    "* Take the code from Challenge 3, compare the speed of reading a file with Python or with a dataframe"
   ]
  },
  {
   "cell_type": "code",
   "execution_count": null,
   "metadata": {},
   "outputs": [],
   "source": []
  },
  {
   "cell_type": "markdown",
   "metadata": {},
   "source": [
    "## Challenge 5: Write Unit Tests for all above programs"
   ]
  },
  {
   "cell_type": "code",
   "execution_count": null,
   "metadata": {},
   "outputs": [],
   "source": [
    "def my_function(input):\n",
    "    return(input – 1)\n",
    "\n",
    "\n",
    "class TestClass(unittest.TestCase):\n",
    "    \n",
    "    def my_test(self):\n",
    "        self.assertEqual(my_function(1), 0)) #checking 1 becomes 0\n",
    "\n",
    "unittest.main(argv=[''], verbosity=2, exit=False)"
   ]
  },
  {
   "cell_type": "code",
   "execution_count": null,
   "metadata": {},
   "outputs": [],
   "source": []
  }
 ],
 "metadata": {
  "kernelspec": {
   "display_name": "Python 3",
   "language": "python",
   "name": "python3"
  }
 },
 "nbformat": 4,
 "nbformat_minor": 2
}
