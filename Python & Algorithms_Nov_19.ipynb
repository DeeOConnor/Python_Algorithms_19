{
 "cells": [
  {
   "cell_type": "markdown",
   "metadata": {},
   "source": [
    "## Run your first line of Python code:"
   ]
  },
  {
   "cell_type": "code",
   "execution_count": null,
   "metadata": {},
   "outputs": [],
   "source": [
    "print(\"Hello, World! I was written using Python\")"
   ]
  },
  {
   "cell_type": "markdown",
   "metadata": {},
   "source": [
    "## Variables"
   ]
  },
  {
   "cell_type": "code",
   "execution_count": null,
   "metadata": {},
   "outputs": [],
   "source": [
    "age = 19          # integer\n",
    "balance = 47.56   # floating point\n",
    "name = \"Deirdre\"  # string\n",
    "char = \"c\"        # character\n",
    "\n",
    "# list (of strings)\n",
    "grades = [\"A\", \"B\", \"C\", \"D\", \"F\"]    \n",
    "\n",
    "# dictionary with integer keys\n",
    "dictionary = {1: \"John\", 2: \"Mary\", 3: \"Helen\", 4: \"Barry\"}\n",
    "\n",
    "# tuple\n",
    "julia = (\"Julia\", \"Roberts\", 1967, \"Duplicity\", 2009, \"Actress\", \"Atlanta, Georgia\")\n",
    "julia = julia[:3] + (\"Eat Pray Love\", 2010) + julia[5:]\n",
    "print(julia)"
   ]
  },
  {
   "cell_type": "markdown",
   "metadata": {},
   "source": [
    "## Numbers: floating points vs integers"
   ]
  },
  {
   "cell_type": "code",
   "execution_count": null,
   "metadata": {},
   "outputs": [],
   "source": [
    "year = 1984\n",
    "\n",
    "total = 66.85\n",
    "tip = 0.15\n",
    "\n",
    "total_plus_tip = total + (total*tip)\n",
    "\n",
    "type(tip)\n",
    "\n",
    "# Is year an integer or floating point?\n",
    "# Is total an integer or floating point?"
   ]
  },
  {
   "cell_type": "code",
   "execution_count": null,
   "metadata": {},
   "outputs": [],
   "source": [
    "year = 1984.0\n",
    "\n",
    "# Now, what data type is year?\n",
    "\n",
    "complex_num = 9.322e-36j\n",
    "\n",
    "type(complex_num)"
   ]
  },
  {
   "cell_type": "markdown",
   "metadata": {},
   "source": [
    "## Random numbers in Python"
   ]
  },
  {
   "cell_type": "code",
   "execution_count": null,
   "metadata": {},
   "outputs": [],
   "source": [
    "import random\n",
    "\n",
    "dice_roll = random.randint(1,6)\n",
    "\n",
    "print(\"Do you want to roll the dice?\")\n",
    "print(\"The result is:\", dice_roll)"
   ]
  },
  {
   "cell_type": "code",
   "execution_count": null,
   "metadata": {},
   "outputs": [],
   "source": [
    "import random\n",
    "random_list = []\n",
    "\n",
    "while(len(random_list) <= 10):\n",
    "\n",
    "    number = random.randint(1, 100)\n",
    "    random_list.append(number)\n",
    "\n",
    "print(random_list)"
   ]
  },
  {
   "cell_type": "markdown",
   "metadata": {},
   "source": [
    "## For loops"
   ]
  },
  {
   "cell_type": "code",
   "execution_count": null,
   "metadata": {},
   "outputs": [],
   "source": [
    "# What is this datatype?\n",
    "cars = [\"Audi\", \"BMW\", \"Ford\", \"Toyata\", \"Red cars\", \"Blue cars\"]\n",
    "\n",
    "for each in cars:\n",
    "    print(each)\n",
    "    \n",
    "sentence = \"Strings are lists of characters\"\n",
    "\n",
    "for s in sentence:\n",
    "    if(s != \" \"):\n",
    "        print(s)"
   ]
  },
  {
   "cell_type": "code",
   "execution_count": null,
   "metadata": {},
   "outputs": [],
   "source": [
    "for iteration in range(6):\n",
    "    print(iteration)"
   ]
  },
  {
   "cell_type": "code",
   "execution_count": null,
   "metadata": {},
   "outputs": [],
   "source": [
    "start = 1\n",
    "end = 8\n",
    "step = 2\n",
    "\n",
    "for iteration in range(start, end, step):\n",
    "    print(iteration)"
   ]
  },
  {
   "cell_type": "code",
   "execution_count": null,
   "metadata": {},
   "outputs": [],
   "source": [
    "adjective = [\"red\", \"big\", \"tasty\"]\n",
    "fruits = [\"apple\", \"banana\", \"cherry\"]\n",
    "\n",
    "for a in adjective:\n",
    "    # outer loop iterates once for ever inner loop\n",
    "    for f in fruits:\n",
    "        # inner loop iterates first\n",
    "        print(a, f)"
   ]
  },
  {
   "cell_type": "markdown",
   "metadata": {},
   "source": [
    "## While loops"
   ]
  },
  {
   "cell_type": "code",
   "execution_count": null,
   "metadata": {},
   "outputs": [],
   "source": [
    "counter = 0\n",
    "\n",
    "while(counter < 10):\n",
    "    print(counter)\n",
    "    counter = counter + 1"
   ]
  },
  {
   "cell_type": "code",
   "execution_count": null,
   "metadata": {},
   "outputs": [],
   "source": [
    "while(1 == 1):\n",
    "    ask = input(\"Would you like to stop the loop? (yes/no) \")\n",
    "    if(ask == \"yes\" or ask == \"Yes\"):\n",
    "        print(\"Time to exit the loop.\")\n",
    "        break\n",
    "    else:\n",
    "        print(\"That will continue forever...\")\n",
    "        break"
   ]
  },
  {
   "attachments": {},
   "cell_type": "markdown",
   "metadata": {},
   "source": [
    "# Challenge 1: Create a program\n",
    " \n",
    "* Using **while loops with booleans**\n",
    "* Print a sentence \"eating more food\" \n",
    "* As long as the boolean variable **user_is_hungry = True**\n",
    "\n",
    "\n",
    "# Challenge 2: Fix the infinite loop\n",
    "\n",
    "* If you accidentally run a cell with an infinite loop, navigate to \n",
    "* Kernel > Restart & Clear Output\n",
    "* In order to stop your kernel from crashing\n",
    "\n",
    "\n",
    "# Challenge 3: Don't print 's'\n",
    "\n",
    "* Take the followng input = \"A silly, succint sentence\"\n",
    "\n",
    "\n",
    "# Challenge 4: Only print a sentence that has an 'x'\n",
    "\n",
    "* Take the following input = [\"Exaggerated\", \"Exemplary\", \"Congratulations\", \" \", \"Extraordinary\", \"x\", \"Programming\", \"Education\", \"Extreme\", \"Complete\"]\n",
    "* for each item, check if(\"x\" in item) == True\n",
    "* Read more here: https://www.w3schools.com/python/python_ref_string.asp"
   ]
  },
  {
   "cell_type": "markdown",
   "metadata": {},
   "source": [
    "## List Comprehensions"
   ]
  },
  {
   "cell_type": "code",
   "execution_count": null,
   "metadata": {},
   "outputs": [],
   "source": [
    "number_list = [x ** 2 for x in range(10) if x % 2 == 0]\n",
    "\n",
    "# STEP 1\n",
    "number_list = [x for x in range(10)]\n",
    "# output: all numbers from 0 to 9\n",
    "\n",
    "# STEP 2\n",
    "number_list = [x for x in range(10) if x % 2 == 0]\n",
    "# output: all even numbers from 0 to 9\n",
    "\n",
    "# STEP 3\n",
    "number_list = [x ** 2 for x in range(10)]\n",
    "#output: the square of all numbers between 0-9\n",
    "\n",
    "print(number_list)"
   ]
  },
  {
   "cell_type": "markdown",
   "metadata": {},
   "source": [
    "## Operations"
   ]
  },
  {
   "cell_type": "code",
   "execution_count": null,
   "metadata": {},
   "outputs": [],
   "source": [
    "# string concatenation\n",
    "greetings = \"Hello\" + \" \" + \"World!\"\n",
    "print(greetings)"
   ]
  },
  {
   "cell_type": "code",
   "execution_count": null,
   "metadata": {},
   "outputs": [],
   "source": [
    "# string + int concatenation\n",
    "age = 19\n",
    "print(\"I am\", age, \"years old.\")"
   ]
  },
  {
   "cell_type": "code",
   "execution_count": null,
   "metadata": {},
   "outputs": [],
   "source": [
    "age = 19\n",
    "sentence = \"I am\" + age + \"years old.\"\n",
    "\n",
    "print(sentence)"
   ]
  },
  {
   "cell_type": "markdown",
   "metadata": {},
   "source": [
    "## Casting Data types\n",
    "#### What is a TypeError?"
   ]
  },
  {
   "cell_type": "code",
   "execution_count": null,
   "metadata": {},
   "outputs": [],
   "source": [
    "print(type(age))\n",
    "\n",
    "sentence = \"I am\" + str(age) + \"years old.\"\n",
    "\n",
    "print(sentence)\n",
    "print(type(age))"
   ]
  },
  {
   "cell_type": "markdown",
   "metadata": {},
   "source": [
    "## Taking input\n",
    "\n",
    "* Resource: list of counties in Ireland \n",
    "http://www.waterfordwebdesign.ie/alphabetical-list-32-counties-ireland/"
   ]
  },
  {
   "cell_type": "code",
   "execution_count": null,
   "metadata": {},
   "outputs": [],
   "source": [
    "name = input(\"What's your name? \")\n",
    "print(\"Nice to meet you \" + name + \"!\")\n",
    "age = input(\"Your age? \")\n",
    "print(\"So, you are already \" + age + \" years old, \" + name + \"!\")"
   ]
  },
  {
   "cell_type": "code",
   "execution_count": null,
   "metadata": {},
   "outputs": [],
   "source": [
    "test_score = int(input(\"Enter your total score: \"))\n",
    "total = test_score/100\n",
    "\n",
    "print(\"Your total score is: %.2f\" % (total))\n",
    "type(total)"
   ]
  },
  {
   "attachments": {},
   "cell_type": "markdown",
   "metadata": {},
   "source": [
    "## Challenge 5: Can you raise the following errors in Python?\n",
    "\n",
    "* **IndexError** Iterator object is out of range\n",
    "* **ValueError** Raised when a built-in operation or function receives an argument that has the right type but an inappropriate value  \n",
    "* **SyntaxError** If you have made a mistake in the use of a statement for example\n",
    "* **EOFError** Raised when one of the built-in functions (input() or raw_input()) hits an end-of-file condition (EOF) without reading any data\n",
    "* https://www.tutorialsteacher.com/python/error-types-in-python\n"
   ]
  },
  {
   "cell_type": "markdown",
   "metadata": {},
   "source": [
    "## Operators"
   ]
  },
  {
   "cell_type": "code",
   "execution_count": null,
   "metadata": {},
   "outputs": [],
   "source": [
    "a = 33\n",
    "b = 200\n",
    "\n",
    "if(b > a):\n",
    "    print(\"b is greater than a\")\n",
    "elif(b < a):\n",
    "    print(\"b is less than a\")\n",
    "elif(b == a):\n",
    "    print(\"b and a are equal\")\n",
    "else:\n",
    "    print(\"That doesn't look right.. b:%d and a:%d\" % (b, a))"
   ]
  },
  {
   "cell_type": "markdown",
   "metadata": {},
   "source": [
    "## Challenge 6: count the number of \"the’s\" in the paragraph\n",
    "\n",
    "* Split the string so each word is a new item in a list\n",
    "* list = string.split(\",\") will create a new item after every comma\n",
    "* Use a variable called counter and increment it every time you find 'the'\n",
    "* If a word is not 'the', continue\n",
    "* Print the variable count at the end"
   ]
  },
  {
   "cell_type": "code",
   "execution_count": null,
   "metadata": {},
   "outputs": [],
   "source": [
    "paragraph = \"A paragraph is a group of words put together to form a group that is usually longer than a sentence. Paragraphs are often made up of several sentences. There are usually between three and eight sentences. Paragraphs can begin with an indentation (about five spaces), or by missing a line out, and then starting again. This makes it easier to see when one paragraph ends and another begins.In most organized forms of writing, such as essays, paragraphs contain a topic sentence . This topic sentence of the paragraph tells the reader what the paragraph will be about. Essays usually have multiple paragraphs that make claims to support a thesis statement, which is the central idea of the essay.Paragraphs may signal when the writer changes topics. Each paragraph may have a number of sentences, depending on the topic.\""
   ]
  },
  {
   "cell_type": "markdown",
   "metadata": {},
   "source": [
    "## Reading information from a file"
   ]
  },
  {
   "cell_type": "code",
   "execution_count": null,
   "metadata": {},
   "outputs": [],
   "source": [
    "with open('example.txt', 'r') as read_file:\n",
    "    # further processing\n",
    "    print(read_file.read())"
   ]
  },
  {
   "cell_type": "markdown",
   "metadata": {},
   "source": [
    "## Writing to a file"
   ]
  },
  {
   "cell_type": "code",
   "execution_count": null,
   "metadata": {},
   "outputs": [],
   "source": [
    "file = open('example.txt', 'w')\n",
    "    \n",
    "file.write(“Hello World”)\n",
    "file.write(“This is our new text file”) \n",
    "file.write(“and this is another line.”) \n",
    "file.write(“Why? Because we can.”) \n",
    "\n",
    "file.close() "
   ]
  },
  {
   "cell_type": "code",
   "execution_count": null,
   "metadata": {},
   "outputs": [],
   "source": []
  },
  {
   "cell_type": "code",
   "execution_count": null,
   "metadata": {},
   "outputs": [],
   "source": []
  },
  {
   "cell_type": "code",
   "execution_count": null,
   "metadata": {},
   "outputs": [],
   "source": []
  },
  {
   "cell_type": "code",
   "execution_count": null,
   "metadata": {},
   "outputs": [],
   "source": []
  }
 ],
 "metadata": {
  "kernelspec": {
   "display_name": "Python 3",
   "language": "python",
   "name": "python3"
  },
  "language_info": {
   "codemirror_mode": {
    "name": "ipython",
    "version": 3
   },
   "file_extension": ".py",
   "mimetype": "text/x-python",
   "name": "python",
   "nbconvert_exporter": "python",
   "pygments_lexer": "ipython3",
   "version": "3.7.5"
  }
 },
 "nbformat": 4,
 "nbformat_minor": 2
}
