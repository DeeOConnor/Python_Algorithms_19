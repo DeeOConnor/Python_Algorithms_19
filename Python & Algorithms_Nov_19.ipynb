{
 "cells": [
  {
   "cell_type": "markdown",
   "metadata": {},
   "source": [
    "## Run your first line of Python code:"
   ]
  },
  {
   "cell_type": "code",
   "execution_count": null,
   "metadata": {},
   "outputs": [],
   "source": [
    "name = \"Deirdre\"\n",
    "second_name = \"O'Connor\"\n",
    "\n",
    "print(\"Hello, World! I was written using Python\")"
   ]
  },
  {
   "cell_type": "markdown",
   "metadata": {},
   "source": [
    "## Variables"
   ]
  },
  {
   "cell_type": "code",
   "execution_count": null,
   "metadata": {},
   "outputs": [],
   "source": [
    "age = 19          # integer\n",
    "balance = 47.56   # floating point\n",
    "name = \"Deirdre\"  # string\n",
    "char = \"c\"        # character\n",
    "\n",
    "# list (of strings)\n",
    "grades = [\"A\", \"B\", \"C\", \"D\", \"F\"]    \n",
    "\n",
    "# dictionary with integer keys\n",
    "dictionary = {1: \"John\", 2: \"Mary\", 3: \"Helen\", 4: \"Barry\"}\n",
    "\n",
    "# tuple\n",
    "julia = (\"Julia\", \"Roberts\", 1967, \"Duplicity\", 2009, \"Actress\", \"Atlanta, Georgia\")\n",
    "\n",
    "julia = julia[:3] + (\"Eat Pray Love\", 2010) + julia[5:]\n",
    "print(julia)\n",
    "\n",
    "first_name, surname, dob, movie, movie_year, occupation, home = (\"Julia\", \"Roberts\", 1967, \"Duplicity\", 2009, \"Actress\", \"Atlanta, Georgia\")\n",
    "\n",
    "#print(dob)"
   ]
  },
  {
   "cell_type": "code",
   "execution_count": null,
   "metadata": {},
   "outputs": [],
   "source": [
    "test = (\"Julia\", \"Roberts\", 1967, \"Duplicity\", 2009, \"Actress\", \"Atlanta, Georgia\")\n",
    "\n",
    "print(test[0], test[1], test[2], (\"Eat Pray Love\", 2010), test[5:])"
   ]
  },
  {
   "cell_type": "markdown",
   "metadata": {},
   "source": [
    "## Numbers: floating points vs integers"
   ]
  },
  {
   "cell_type": "code",
   "execution_count": null,
   "metadata": {},
   "outputs": [],
   "source": [
    "year = 1984\n",
    "\n",
    "total = 66.85\n",
    "tip = 0.15\n",
    "\n",
    "total_plus_tip = total + (total*tip)\n",
    "\n",
    "type(tip)\n",
    "\n",
    "# Is year an integer or floating point?\n",
    "# Is total an integer or floating point?\n",
    "print(type(year))"
   ]
  },
  {
   "cell_type": "code",
   "execution_count": null,
   "metadata": {},
   "outputs": [],
   "source": [
    "year = 1984.0\n",
    "\n",
    "# Now, what data type is year?\n",
    "\n",
    "complex_num = 9.322e-36j\n",
    "\n",
    "type(complex_num)\n",
    "print(type(year))"
   ]
  },
  {
   "cell_type": "markdown",
   "metadata": {},
   "source": [
    "## Random numbers in Python"
   ]
  },
  {
   "cell_type": "code",
   "execution_count": null,
   "metadata": {},
   "outputs": [],
   "source": [
    "import random\n",
    "\n",
    "dice_roll = random.randint(1,6)\n",
    "\n",
    "print(\"Do you want to roll the dice?\")\n",
    "print(\"The result is:\", dice_roll)"
   ]
  },
  {
   "cell_type": "code",
   "execution_count": null,
   "metadata": {},
   "outputs": [],
   "source": [
    "import random\n",
    "random_list = []\n",
    "\n",
    "while(len(random_list) < 10):\n",
    "# this is a comment\n",
    "    number = random.randint(1, 100)\n",
    "    random_list.append(number)\n",
    "\n",
    "print(random_list)"
   ]
  },
  {
   "cell_type": "markdown",
   "metadata": {},
   "source": [
    "## For loops"
   ]
  },
  {
   "cell_type": "code",
   "execution_count": null,
   "metadata": {},
   "outputs": [],
   "source": [
    "# What is this datatype?\n",
    "cars = [\"Audi\", \"BMW\", \"Ford\", \"Toyata\", \"Red cars\", \"Blue cars\"]\n",
    "\n",
    "result = \"\"\n",
    "\n",
    "for each in cars:\n",
    "\n",
    "    result += each + \" \"\n",
    "\n",
    "\n",
    "print(each)\n",
    "\n",
    "\n",
    "sentence = \"Strings are lists of characters\"\n",
    "\n",
    "for s in sentence:\n",
    "    \n",
    "    if(s == \"s\"):\n",
    "        print(s)\n",
    "        \n",
    "    else:\n",
    "        pass\n",
    "    \n",
    "print(s)"
   ]
  },
  {
   "cell_type": "code",
   "execution_count": null,
   "metadata": {},
   "outputs": [],
   "source": [
    "for iteration in range(6):\n",
    "    print(iteration)"
   ]
  },
  {
   "cell_type": "code",
   "execution_count": null,
   "metadata": {},
   "outputs": [],
   "source": [
    "start = 1\n",
    "end = 8\n",
    "step = 2\n",
    "\n",
    "for iteration in range(start, end):\n",
    "    print(iteration)"
   ]
  },
  {
   "cell_type": "code",
   "execution_count": null,
   "metadata": {},
   "outputs": [],
   "source": [
    "cars = [\"Audi\", \"BMW\", \"Ford\", \"Toyata\", \"Red cars\", \"Blue cars\"]\n",
    "\n",
    "for each in cars:\n",
    "\n",
    "    print(each)\n"
   ]
  },
  {
   "cell_type": "code",
   "execution_count": null,
   "metadata": {},
   "outputs": [],
   "source": [
    "adjective = [\"red\", \"big\", \"tasty\"]\n",
    "fruits = [\"apple\", \"banana\", \"cherry\"]\n",
    "\n",
    "for each in adjective:\n",
    "    \n",
    "    for fruit in fruits:\n",
    "        \n",
    "        print(fruit, each)"
   ]
  },
  {
   "cell_type": "markdown",
   "metadata": {},
   "source": [
    "## While loops"
   ]
  },
  {
   "cell_type": "code",
   "execution_count": null,
   "metadata": {},
   "outputs": [],
   "source": [
    "counter = 0\n",
    "\n",
    "while(counter > 10):\n",
    "    print(counter)\n",
    "    \n",
    "    #exit condition\n",
    "    counter += 1"
   ]
  },
  {
   "cell_type": "code",
   "execution_count": null,
   "metadata": {},
   "outputs": [],
   "source": [
    "while(1 == 1):\n",
    "    \n",
    "    ask = input(\"Would you like to stop the loop? (yes/no) \")\n",
    "    \n",
    "    if(ask == \"yes\" or ask == \"Yes\" or ask == \"ye\"):\n",
    "        print(\"Time to exit the loop.\")\n",
    "        break\n",
    "    \n",
    "    else:\n",
    "        print(\"That will continue forever...\")\n",
    "        break"
   ]
  },
  {
   "cell_type": "code",
   "execution_count": null,
   "metadata": {},
   "outputs": [],
   "source": [
    "shout = \"hey there\"\n",
    "\n",
    "shout.upper()"
   ]
  },
  {
   "cell_type": "code",
   "execution_count": null,
   "metadata": {},
   "outputs": [],
   "source": [
    "string = int(input(\"Give me a number\"))\n",
    "\n",
    "type(string)"
   ]
  },
  {
   "cell_type": "markdown",
   "metadata": {},
   "source": [
    "# Challenge 1: Create a program\n",
    " \n",
    "* Using **while loops with booleans**\n",
    "* Print a sentence \"eating more food\" \n",
    "* As long as the boolean variable **user_is_hungry = True**\n",
    "\n",
    "\n",
    "# Challenge 2: Fix the infinite loop\n",
    "\n",
    "* If you accidentally run a cell with an infinite loop, navigate to \n",
    "* Kernel > Restart & Clear Output\n",
    "* In order to stop your kernel from crashing\n",
    "\n",
    "\n",
    "# Challenge 3: Don't print 's'\n",
    "\n",
    "* Take the followng input = \"A silly, succint sentence\"\n",
    "\n",
    "\n",
    "# Challenge 4: Only print a sentence that has an 'x'\n",
    "\n",
    "* Take the following input = [\"Exaggerated\", \"Exemplary\", \"Congratulations\", \" \", \"Extraordinary\", \"x\", \"Programming\", \"Education\", \"Extreme\", \"Complete\"]\n",
    "* for each item, check if(\"x\" in item) == True\n",
    "* Read more here: https://www.w3schools.com/python/python_ref_string.asp"
   ]
  },
  {
   "cell_type": "code",
   "execution_count": null,
   "metadata": {},
   "outputs": [],
   "source": [
    "\n",
    "if(4 > 10):\n",
    "    print(\"it's true!\")\n",
    "else:\n",
    "    print(\"it's not true\")"
   ]
  },
  {
   "cell_type": "code",
   "execution_count": null,
   "metadata": {},
   "outputs": [],
   "source": [
    "camelCase = 10\n",
    "\n",
    "camel_case = 10\n",
    "\n",
    "camel case = 10\n",
    "\n"
   ]
  },
  {
   "cell_type": "markdown",
   "metadata": {},
   "source": [
    "## List Comprehensions"
   ]
  },
  {
   "cell_type": "code",
   "execution_count": 3,
   "metadata": {},
   "outputs": [
    {
     "name": "stdout",
     "output_type": "stream",
     "text": [
      "25\n",
      "This is even:  [94, 56, 54, 4, 24, 88, 26, 60, 64, 24, 52, 74] \n",
      "This is odd [47, 77, 59, 89, 21, 15, 75, 33, 7, 77, 73, 1, 65]\n",
      "12 13\n"
     ]
    }
   ],
   "source": [
    "import random\n",
    "odd = []\n",
    "even = []\n",
    "count = 0\n",
    "\n",
    "while((len(odd) < 12) or (len(even) < 12)):\n",
    "    \n",
    "    r = random.randint(1,100)\n",
    "    \n",
    "    if(r % 2 == 0):\n",
    "        even.append(r)\n",
    "    \n",
    "    elif(r % 2 != 0):\n",
    "        odd.append(r)\n",
    "    \n",
    "    else:\n",
    "        print(\"Something went wrong\")\n",
    "        \n",
    "    # exit statement\n",
    "    count += 1\n",
    "    \n",
    "print(count)\n",
    "print(\"This is even: \", even, \"\\nThis is odd\", odd)\n",
    "print(len(even), len(odd))"
   ]
  },
  {
   "cell_type": "code",
   "execution_count": 12,
   "metadata": {},
   "outputs": [
    {
     "ename": "ValueError",
     "evalue": "invalid literal for int() with base 10: 'hello'",
     "output_type": "error",
     "traceback": [
      "\u001b[0;31m--------------------------------------------------------------\u001b[0m",
      "\u001b[0;31mValueError\u001b[0m                   Traceback (most recent call last)",
      "\u001b[0;32m<ipython-input-12-76acdd169a4a>\u001b[0m in \u001b[0;36m<module>\u001b[0;34m\u001b[0m\n\u001b[1;32m      5\u001b[0m \u001b[0mstring\u001b[0m \u001b[0;34m=\u001b[0m \u001b[0;34m\"hello\"\u001b[0m\u001b[0;34m\u001b[0m\u001b[0;34m\u001b[0m\u001b[0m\n\u001b[1;32m      6\u001b[0m \u001b[0;34m\u001b[0m\u001b[0m\n\u001b[0;32m----> 7\u001b[0;31m \u001b[0mint\u001b[0m\u001b[0;34m(\u001b[0m\u001b[0mstring\u001b[0m\u001b[0;34m)\u001b[0m\u001b[0;34m\u001b[0m\u001b[0;34m\u001b[0m\u001b[0m\n\u001b[0m",
      "\u001b[0;31mValueError\u001b[0m: invalid literal for int() with base 10: 'hello'"
     ]
    }
   ],
   "source": [
    "9/2\n",
    "9//2\n",
    "9%2\n",
    "\n",
    "string = \"hello\"\n",
    "\n",
    "int(string)"
   ]
  },
  {
   "cell_type": "code",
   "execution_count": 7,
   "metadata": {},
   "outputs": [
    {
     "name": "stdout",
     "output_type": "stream",
     "text": [
      "[0, 4, 16, 36, 64]\n"
     ]
    }
   ],
   "source": [
    "\n",
    "\n",
    "# STEP 1\n",
    "number_list = [x for x in range(10)]\n",
    "# output: all numbers from 0 to 9\n",
    "\n",
    "# STEP 2\n",
    "number_list = [x for x in range(10) if x % 2 == 0]\n",
    "# output: all even numbers from 0 to 9\n",
    "\n",
    "# STEP 3\n",
    "number_list = [x ** 2 for x in range(10)]\n",
    "#output: the square of all numbers between 0-9\n",
    "\n",
    "\n",
    "number_list = [x ** 2 for x in range(10) if x % 2 == 0]\n",
    "print(number_list)"
   ]
  },
  {
   "cell_type": "markdown",
   "metadata": {},
   "source": [
    "## Operations"
   ]
  },
  {
   "cell_type": "code",
   "execution_count": null,
   "metadata": {},
   "outputs": [],
   "source": [
    "# string concatenation\n",
    "greetings = \"Hello\" + \" \" + \"World!\"\n",
    "print(greetings)"
   ]
  },
  {
   "cell_type": "code",
   "execution_count": null,
   "metadata": {},
   "outputs": [],
   "source": [
    "# string + int concatenation\n",
    "age = 19\n",
    "print(\"I am\", age, \"years old.\")"
   ]
  },
  {
   "cell_type": "code",
   "execution_count": null,
   "metadata": {},
   "outputs": [],
   "source": [
    "age = 19\n",
    "sentence = \"I am\" + age + \"years old.\"\n",
    "\n",
    "print(sentence)"
   ]
  },
  {
   "attachments": {},
   "cell_type": "markdown",
   "metadata": {},
   "source": [
    "## Challenge 5: Handling non-alphanumeric input\n",
    "\n",
    "* Take a string as input from a user\n",
    "* iterate through the string, or split if not isalpha()\n",
    "* put the number in a new variable\n",
    "* print the number variable and type"
   ]
  },
  {
   "cell_type": "markdown",
   "metadata": {},
   "source": [
    "## Casting Data types\n",
    "#### What is a TypeError?"
   ]
  },
  {
   "cell_type": "code",
   "execution_count": null,
   "metadata": {},
   "outputs": [],
   "source": [
    "print(type(age))\n",
    "\n",
    "sentence = \"I am\" + str(age) + \"years old.\"\n",
    "\n",
    "print(sentence)\n",
    "print(type(age))"
   ]
  },
  {
   "cell_type": "markdown",
   "metadata": {},
   "source": [
    "## Challenge 6: Taking input\n",
    "\n",
    "* Resource: list of counties in Ireland \n",
    "http://www.waterfordwebdesign.ie/alphabetical-list-32-counties-ireland/\n",
    "* create a list of all counties\n",
    "* print the number of counties in the list\n",
    "* print all counties that begin with 'W'"
   ]
  },
  {
   "cell_type": "code",
   "execution_count": null,
   "metadata": {},
   "outputs": [],
   "source": [
    "name = input(\"What's your name? \")\n",
    "print(\"Nice to meet you \" + name + \"!\")\n",
    "age = input(\"Your age? \")\n",
    "print(\"So, you are already \" + age + \" years old, \" + name + \"!\")"
   ]
  },
  {
   "cell_type": "code",
   "execution_count": null,
   "metadata": {},
   "outputs": [],
   "source": [
    "test_score = int(input(\"Enter your total score: \"))\n",
    "total = test_score/100\n",
    "\n",
    "print(\"Your total score is: %.2f\" % (total))\n",
    "type(total)"
   ]
  },
  {
   "cell_type": "code",
   "execution_count": null,
   "metadata": {},
   "outputs": [],
   "source": [
    "import random\n",
    "\n",
    "dice_roll = random.randint(1,6)\n",
    "\n",
    "response = input(\"Do you want to roll the dice? (y/n) \")\n",
    "if(response == \"y\"):\n",
    "    print(\"The result is:\", dice_roll)\n",
    "    \n",
    "else:\n",
    "    pass"
   ]
  },
  {
   "cell_type": "code",
   "execution_count": null,
   "metadata": {},
   "outputs": [],
   "source": [
    "from datetime import date \n",
    "\n",
    "year = \n",
    "month = \n",
    "date = \n",
    "  \n",
    "def calculateAge(birthDate): \n",
    "    today = date.today() \n",
    "    age = today.year - birthDate.year - ((today.month, today.day) < (birthDate.month, birthDate.day)) \n",
    "  \n",
    "    return age \n",
    "      \n",
    "\n",
    "# print(calculateAge(date(2004, 2, 19)), “years”)\n",
    "print(calculateAge(date(year, month, date)), \"years\")"
   ]
  },
  {
   "cell_type": "markdown",
   "metadata": {},
   "source": [
    "## Challenge 7: Can you raise the following errors in Python?\n",
    "\n",
    "* **IndexError** Iterator object is out of range\n",
    "* **ValueError** Raised when a built-in operation or function receives an argument that has the right type but an inappropriate value  \n",
    "* **SyntaxError** If you have made a mistake in the use of a statement for example\n",
    "* **EOFError** Raised when one of the built-in functions (input() or raw_input()) hits an end-of-file condition (EOF) without reading any data\n",
    "* https://www.tutorialsteacher.com/python/error-types-in-python\n"
   ]
  },
  {
   "cell_type": "markdown",
   "metadata": {},
   "source": [
    "## Operators"
   ]
  },
  {
   "cell_type": "code",
   "execution_count": null,
   "metadata": {},
   "outputs": [],
   "source": [
    "a = 33\n",
    "b = 200\n",
    "\n",
    "if(b > a):\n",
    "    print(\"b is greater than a\")\n",
    "elif(b < a):\n",
    "    print(\"b is less than a\")\n",
    "elif(b == a):\n",
    "    print(\"b and a are equal\")\n",
    "else:\n",
    "    print(\"That doesn't look right.. b:%d and a:%d\" % (b, a))"
   ]
  },
  {
   "cell_type": "markdown",
   "metadata": {},
   "source": [
    "## Challenge 8: count the number of \"the’s\" in the paragraph\n",
    "\n",
    "* Split the string so each word is a new item in a list\n",
    "* list = string.split(\",\") will create a new item after every comma\n",
    "* Use a variable called counter and increment it every time you find 'the'\n",
    "* If a word is not 'the', continue\n",
    "* Print the variable count at the end"
   ]
  },
  {
   "cell_type": "code",
   "execution_count": null,
   "metadata": {},
   "outputs": [],
   "source": [
    "paragraph = \"A paragraph is a group of words put together to form a group that is usually longer than a sentence. Paragraphs are often made up of several sentences. There are usually between three and eight sentences. Paragraphs can begin with an indentation (about five spaces), or by missing a line out, and then starting again. This makes it easier to see when one paragraph ends and another begins.In most organized forms of writing, such as essays, paragraphs contain a topic sentence . This topic sentence of the paragraph tells the reader what the paragraph will be about. Essays usually have multiple paragraphs that make claims to support a thesis statement, which is the central idea of the essay.Paragraphs may signal when the writer changes topics. Each paragraph may have a number of sentences, depending on the topic.\""
   ]
  },
  {
   "cell_type": "markdown",
   "metadata": {},
   "source": [
    "## Reading information from a file"
   ]
  },
  {
   "cell_type": "code",
   "execution_count": null,
   "metadata": {},
   "outputs": [],
   "source": [
    "with open('example.txt', 'r') as read_file:\n",
    "    # further processing\n",
    "    print(read_file.read())"
   ]
  },
  {
   "cell_type": "markdown",
   "metadata": {},
   "source": [
    "## Writing to a file"
   ]
  },
  {
   "cell_type": "code",
   "execution_count": null,
   "metadata": {},
   "outputs": [],
   "source": [
    "file = open('example.txt', 'w')\n",
    "    \n",
    "file.write(“Hello World”)\n",
    "file.write(“This is our new text file”) \n",
    "file.write(“and this is another line.”) \n",
    "file.write(“Why? Because we can.”) \n",
    "\n",
    "file.close() "
   ]
  },
  {
   "cell_type": "markdown",
   "metadata": {},
   "source": [
    "## Using pandas instead to read a file"
   ]
  },
  {
   "cell_type": "code",
   "execution_count": 17,
   "metadata": {},
   "outputs": [
    {
     "ename": "ModuleNotFoundError",
     "evalue": "No module named 'pandas'",
     "output_type": "error",
     "traceback": [
      "\u001b[0;31m---------------------------------------------------------------------------\u001b[0m",
      "\u001b[0;31mModuleNotFoundError\u001b[0m                       Traceback (most recent call last)",
      "\u001b[0;32m<ipython-input-17-5cecefbe9875>\u001b[0m in \u001b[0;36m<module>\u001b[0;34m\u001b[0m\n\u001b[0;32m----> 1\u001b[0;31m \u001b[0;32mfrom\u001b[0m \u001b[0mpandas\u001b[0m \u001b[0;32mimport\u001b[0m \u001b[0mpandas\u001b[0m \u001b[0;32mas\u001b[0m \u001b[0mpd\u001b[0m\u001b[0;34m\u001b[0m\u001b[0;34m\u001b[0m\u001b[0m\n\u001b[0m\u001b[1;32m      2\u001b[0m \u001b[0;34m\u001b[0m\u001b[0m\n\u001b[1;32m      3\u001b[0m \u001b[0mdata\u001b[0m \u001b[0;34m=\u001b[0m \u001b[0mpd\u001b[0m\u001b[0;34m.\u001b[0m\u001b[0mread_csv\u001b[0m\u001b[0;34m(\u001b[0m\u001b[0;34m\"example-1.txt\"\u001b[0m\u001b[0;34m,\u001b[0m \u001b[0msep\u001b[0m\u001b[0;34m=\u001b[0m\u001b[0;34m\"\\n\"\u001b[0m\u001b[0;34m,\u001b[0m \u001b[0mheader\u001b[0m\u001b[0;34m=\u001b[0m\u001b[0;32mNone\u001b[0m\u001b[0;34m)\u001b[0m\u001b[0;34m\u001b[0m\u001b[0;34m\u001b[0m\u001b[0m\n\u001b[1;32m      4\u001b[0m \u001b[0;31m#data.columns = [\"a\", \"b\", \"c\", \"etc.\"]\u001b[0m\u001b[0;34m\u001b[0m\u001b[0;34m\u001b[0m\u001b[0;34m\u001b[0m\u001b[0m\n\u001b[1;32m      5\u001b[0m \u001b[0mprint\u001b[0m\u001b[0;34m(\u001b[0m\u001b[0mdata\u001b[0m\u001b[0;34m)\u001b[0m\u001b[0;34m\u001b[0m\u001b[0;34m\u001b[0m\u001b[0m\n",
      "\u001b[0;31mModuleNotFoundError\u001b[0m: No module named 'pandas'"
     ]
    }
   ],
   "source": [
    "import pandas as pd\n",
    "\n",
    "data = pd.read_csv(\"example-1.txt\", sep=\"\\n\", header=None)\n",
    "#data.columns = [\"a\", \"b\", \"c\", \"etc.\"]\n",
    "print(data)"
   ]
  },
  {
   "cell_type": "code",
   "execution_count": null,
   "metadata": {},
   "outputs": [],
   "source": []
  },
  {
   "cell_type": "code",
   "execution_count": null,
   "metadata": {},
   "outputs": [],
   "source": []
  }
 ],
 "metadata": {
  "kernelspec": {
   "display_name": "Python 3",
   "language": "python",
   "name": "python3"
  },
  "language_info": {
   "codemirror_mode": {
    "name": "ipython",
    "version": 3
   },
   "file_extension": ".py",
   "mimetype": "text/x-python",
   "name": "python",
   "nbconvert_exporter": "python",
   "pygments_lexer": "ipython3",
   "version": "3.7.5"
  }
 },
 "nbformat": 4,
 "nbformat_minor": 2
}
