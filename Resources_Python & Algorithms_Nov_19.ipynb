{
 "cells": [
  {
   "cell_type": "markdown",
   "metadata": {},
   "source": [
    "# Resources\n",
    "\n",
    "https://www.python.org for all documentation\n",
    "\n",
    "https://github.com/DeeOConnor/Python_Algorithms_19 for course information\n",
    "\n",
    "https://github.github.com/training-kit/ for git cheatsheets\n",
    "\n",
    "https://jupyter.readthedocs.io/en/latest/running.html#running for Jupyter information\n",
    "\n",
    "\n",
    "## Potential IDEs\n",
    "https://www.jetbrains.com/pycharm/\n",
    "\n",
    "https://code.visualstudio.com/download\n",
    "\n",
    "\n",
    "## Course Links\n",
    "\n",
    "http://python-future.org/compatible_idioms.html for finding differences between Python 2 vs Python 3\n",
    "\n",
    "https://docs.python-guide.org/writing/style/ coding style with examples of good/bas style\n",
    "\n",
    "https://docs.python.org/3/library/exceptions.html python handling exceptions\n",
    "\n",
    "https://www.tutorialspoint.com/python3/python_exceptions.htm python handling exceptions\n",
    "\n",
    "https://realpython.com/python-pep8/ the pep8 library for coding style\n",
    "\n",
    "https://www.w3schools.com/python/python_conditions.asp operators (more reading)\n",
    "\n",
    "https://www.geeksforgeeks.org/basic-operators-python/ operators (full list)\n",
    "\n",
    "\n",
    "## Additional Resources\n",
    "\n",
    "https://product.hubspot.com/blog/git-and-github-tutorial-for-beginners git getting started guide (cmd)\n",
    "\n",
    "https://git-scm.com/book/en/v2/Getting-Started-Installing-Git installing git (cmd)\n",
    "\n",
    "\n",
    "## For ~~Fun~~ Practice\n",
    "\n",
    "https://www.practicepython.org/  and  https://inventwithpython.com/  and  https://www.hackerrank.com/"
   ]
  },
  {
   "cell_type": "code",
   "execution_count": null,
   "metadata": {},
   "outputs": [],
   "source": []
  }
 ],
 "metadata": {
  "kernelspec": {
   "display_name": "Python 3",
   "language": "python",
   "name": "python3"
  },
  "language_info": {
   "codemirror_mode": {
    "name": "ipython",
    "version": 3
   },
   "file_extension": ".py",
   "mimetype": "text/x-python",
   "name": "python",
   "nbconvert_exporter": "python",
   "pygments_lexer": "ipython3",
   "version": "3.7.5"
  }
 },
 "nbformat": 4,
 "nbformat_minor": 2
}
